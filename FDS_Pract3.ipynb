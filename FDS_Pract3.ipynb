{
 "cells": [
  {
   "cell_type": "markdown",
   "id": "47d20aa2",
   "metadata": {},
   "source": [
    "PROBABILITY"
   ]
  },
  {
   "cell_type": "code",
   "execution_count": 1,
   "id": "992077fc",
   "metadata": {},
   "outputs": [
    {
     "name": "stdout",
     "output_type": "stream",
     "text": [
      "Probability of getting 3 is: 0.16666666666666666\n"
     ]
    }
   ],
   "source": [
    "# Probabbility of getting 3 when a die is rolled\n",
    "ns=6 # n(S)={1,2,3,4,5,6}\n",
    "na=1 # n(A)={3}\n",
    "pa=na/ns # P(A)\n",
    "print(\"Probability of getting 3 is:\",pa)"
   ]
  },
  {
   "cell_type": "code",
   "execution_count": 2,
   "id": "d92063fb",
   "metadata": {},
   "outputs": [
    {
     "name": "stdout",
     "output_type": "stream",
     "text": [
      "Probability of atleast getting one head is: 0.875\n"
     ]
    }
   ],
   "source": [
    "# Probability of getting one head when a coin is tossed thrice\n",
    "ns=8 # n(S)={HHH,HHT,THH,HTH,TTH,THT,HTT,TTT}\n",
    "na=7 # n(A)={HHH,HHT,THH,HTH,TTH,THT,HTT}\n",
    "pa=na/ns\n",
    "print(\"Probability of atleast getting one head is:\",pa)"
   ]
  },
  {
   "cell_type": "code",
   "execution_count": 3,
   "id": "48b7ebc2",
   "metadata": {},
   "outputs": [
    {
     "name": "stdout",
     "output_type": "stream",
     "text": [
      "Probability of getting not blue jelly beans is: 0.7\n"
     ]
    }
   ],
   "source": [
    "# A glass of jar contains 5 red,3 blue and 2 green jelly beans.If a jelly beans is chosen at random from the jar.\n",
    "# what is the probability that it is not blue\n",
    "ns=10 # n(S)={5 red,3 blue,3 green}\n",
    "na=7 # n(A)={5 red,3 green}\n",
    "pa=na/ns #P(A)\n",
    "print(\"Probability of getting not blue jelly beans is:\",pa)"
   ]
  },
  {
   "cell_type": "markdown",
   "id": "03c82382",
   "metadata": {},
   "source": [
    " INDEPENDANT AND DEPENDANT EVENT"
   ]
  },
  {
   "cell_type": "code",
   "execution_count": 4,
   "id": "b3f3b8ba",
   "metadata": {},
   "outputs": [
    {
     "name": "stdout",
     "output_type": "stream",
     "text": [
      "Probability that they both will be alive in next 20 years is: 0.35\n"
     ]
    }
   ],
   "source": [
    "# If the probability that the person A will be alive in 20 years is 0.7 and the probability that person B will be alive in \n",
    "# next 20 years is 0.5.What is the probability that they both will be alive in the next 20 years?\n",
    "P=0.7*0.5\n",
    "print(\"Probability that they both will be alive in next 20 years is:\",P)"
   ]
  },
  {
   "cell_type": "code",
   "execution_count": 5,
   "id": "75d68cb8",
   "metadata": {},
   "outputs": [],
   "source": [
    "def event_probability(n,s):\n",
    "    return n/s"
   ]
  },
  {
   "cell_type": "code",
   "execution_count": 6,
   "id": "0fd079f8",
   "metadata": {},
   "outputs": [
    {
     "name": "stdout",
     "output_type": "stream",
     "text": [
      "Probability of getting  4 or 5 in first toss and getting 1,2 or 3 in second toss is: 0.16666666666666666\n"
     ]
    }
   ],
   "source": [
    "# A fair die is tossed twice. Find the probability of getting a 4 or 5 on the first toss and 1,2,3 in the second toss.\n",
    "pa=event_probability(2,6) # probability of getting 4 or 5 on first toss\n",
    "pb=event_probability(3,6) # Probability of getting 1,2 or 3 on the second toss\n",
    "P=pa*pb\n",
    "print(\"Probability of getting  4 or 5 in first toss and getting 1,2 or 3 in second toss is:\",P)"
   ]
  },
  {
   "cell_type": "code",
   "execution_count": 7,
   "id": "542bd45f",
   "metadata": {},
   "outputs": [
    {
     "name": "stdout",
     "output_type": "stream",
     "text": [
      "Probability of obtaining white,black and green in that order is 0.041666666666666664\n"
     ]
    }
   ],
   "source": [
    "# A bag contains 5 white marbles, 3 black marbles, and 2 green marbles.In each draw a marble is drawn from the bag and not\n",
    "# replaced.In 3 draws, find the probability of obtaining white,black and green in that order.\n",
    "pw=event_probability(5,10)\n",
    "pb=event_probability(3,9)\n",
    "pg=event_probability(2,8)\n",
    "P=pw*pb*pg\n",
    "print(\"Probability of obtaining white,black and green in that order is\",(pw*pb*pg))"
   ]
  },
  {
   "cell_type": "code",
   "execution_count": 8,
   "id": "e6bfc7b4",
   "metadata": {},
   "outputs": [
    {
     "name": "stdout",
     "output_type": "stream",
     "text": [
      "0.5\n"
     ]
    }
   ],
   "source": [
    "#Calculate the probability of getting a heart or club\n",
    "cards=52\n",
    "heart=13\n",
    "club=13\n",
    "heart_or_club=event_probability(heart,cards)+event_probability(club,cards)\n",
    "print(heart_or_club)"
   ]
  },
  {
   "cell_type": "code",
   "execution_count": 16,
   "id": "26ac0d41",
   "metadata": {},
   "outputs": [
    {
     "name": "stdout",
     "output_type": "stream",
     "text": [
      "0.23076923076923078\n"
     ]
    }
   ],
   "source": [
    "# To calculate probability of drawing an ace king or queen\n",
    "aces=4\n",
    "kings=4\n",
    "queens=4\n",
    "aces_kings_or_queens=event_probability(aces,cards)+event_probability(kings,cards)+event_probability(queens,cards)\n",
    "print(aces_kings_or_queens)"
   ]
  },
  {
   "cell_type": "code",
   "execution_count": 17,
   "id": "c7955389",
   "metadata": {},
   "outputs": [
    {
     "name": "stdout",
     "output_type": "stream",
     "text": [
      "0.3\n"
     ]
    }
   ],
   "source": [
    "# To calculate probability of drawing a heart or ace\n",
    "hearts=13\n",
    "ace=4\n",
    "ace_of_hearts=1\n",
    "hearts_or_ace=event_probability(hearts,cards)+event_probability(ace,cards)-event_probability(ace_of_hearts,cards)\n",
    "print(round(hearts_or_ace,1))\n"
   ]
  },
  {
   "cell_type": "markdown",
   "id": "63d0cdef",
   "metadata": {},
   "source": [
    "COMPLEMENTARY EVENT"
   ]
  },
  {
   "cell_type": "code",
   "execution_count": 19,
   "id": "fa1b8382",
   "metadata": {},
   "outputs": [
    {
     "name": "stdout",
     "output_type": "stream",
     "text": [
      "Probability of not getting 5 is: 0.8333333333333334\n"
     ]
    }
   ],
   "source": [
    "# Probability of not getting 5 when a fair die is rolled\n",
    "ns=6 #n(S)={1,2,3,4,5,6}\n",
    "na=1 #n(A)={5}\n",
    "pa=na/ns # P(A)\n",
    "print(\"Probability of not getting 5 is:\",1-pa)"
   ]
  },
  {
   "cell_type": "markdown",
   "id": "2f61d20d",
   "metadata": {},
   "source": [
    "# CONDITIONAL PROBABILITY"
   ]
  },
  {
   "cell_type": "code",
   "execution_count": 21,
   "id": "7789df17",
   "metadata": {},
   "outputs": [
    {
     "data": {
      "text/html": [
       "<div>\n",
       "<style scoped>\n",
       "    .dataframe tbody tr th:only-of-type {\n",
       "        vertical-align: middle;\n",
       "    }\n",
       "\n",
       "    .dataframe tbody tr th {\n",
       "        vertical-align: top;\n",
       "    }\n",
       "\n",
       "    .dataframe thead th {\n",
       "        text-align: right;\n",
       "    }\n",
       "</style>\n",
       "<table border=\"1\" class=\"dataframe\">\n",
       "  <thead>\n",
       "    <tr style=\"text-align: right;\">\n",
       "      <th></th>\n",
       "      <th>school</th>\n",
       "      <th>sex</th>\n",
       "      <th>age</th>\n",
       "      <th>address</th>\n",
       "      <th>famsize</th>\n",
       "      <th>Pstatus</th>\n",
       "      <th>Medu</th>\n",
       "      <th>Fedu</th>\n",
       "      <th>Mjob</th>\n",
       "      <th>Fjob</th>\n",
       "      <th>...</th>\n",
       "      <th>famrel</th>\n",
       "      <th>freetime</th>\n",
       "      <th>goout</th>\n",
       "      <th>Dalc</th>\n",
       "      <th>Walc</th>\n",
       "      <th>health</th>\n",
       "      <th>absences</th>\n",
       "      <th>G1</th>\n",
       "      <th>G2</th>\n",
       "      <th>G3</th>\n",
       "    </tr>\n",
       "  </thead>\n",
       "  <tbody>\n",
       "    <tr>\n",
       "      <th>0</th>\n",
       "      <td>GP</td>\n",
       "      <td>F</td>\n",
       "      <td>18</td>\n",
       "      <td>U</td>\n",
       "      <td>GT3</td>\n",
       "      <td>A</td>\n",
       "      <td>4</td>\n",
       "      <td>4</td>\n",
       "      <td>at_home</td>\n",
       "      <td>teacher</td>\n",
       "      <td>...</td>\n",
       "      <td>4</td>\n",
       "      <td>3</td>\n",
       "      <td>4</td>\n",
       "      <td>1</td>\n",
       "      <td>1</td>\n",
       "      <td>3</td>\n",
       "      <td>6</td>\n",
       "      <td>5</td>\n",
       "      <td>6</td>\n",
       "      <td>6</td>\n",
       "    </tr>\n",
       "    <tr>\n",
       "      <th>1</th>\n",
       "      <td>GP</td>\n",
       "      <td>F</td>\n",
       "      <td>17</td>\n",
       "      <td>U</td>\n",
       "      <td>GT3</td>\n",
       "      <td>T</td>\n",
       "      <td>1</td>\n",
       "      <td>1</td>\n",
       "      <td>at_home</td>\n",
       "      <td>other</td>\n",
       "      <td>...</td>\n",
       "      <td>5</td>\n",
       "      <td>3</td>\n",
       "      <td>3</td>\n",
       "      <td>1</td>\n",
       "      <td>1</td>\n",
       "      <td>3</td>\n",
       "      <td>4</td>\n",
       "      <td>5</td>\n",
       "      <td>5</td>\n",
       "      <td>6</td>\n",
       "    </tr>\n",
       "    <tr>\n",
       "      <th>2</th>\n",
       "      <td>GP</td>\n",
       "      <td>F</td>\n",
       "      <td>15</td>\n",
       "      <td>U</td>\n",
       "      <td>LE3</td>\n",
       "      <td>T</td>\n",
       "      <td>1</td>\n",
       "      <td>1</td>\n",
       "      <td>at_home</td>\n",
       "      <td>other</td>\n",
       "      <td>...</td>\n",
       "      <td>4</td>\n",
       "      <td>3</td>\n",
       "      <td>2</td>\n",
       "      <td>2</td>\n",
       "      <td>3</td>\n",
       "      <td>3</td>\n",
       "      <td>10</td>\n",
       "      <td>7</td>\n",
       "      <td>8</td>\n",
       "      <td>10</td>\n",
       "    </tr>\n",
       "  </tbody>\n",
       "</table>\n",
       "<p>3 rows × 33 columns</p>\n",
       "</div>"
      ],
      "text/plain": [
       "  school sex  age address famsize Pstatus  Medu  Fedu     Mjob     Fjob  ...  \\\n",
       "0     GP   F   18       U     GT3       A     4     4  at_home  teacher  ...   \n",
       "1     GP   F   17       U     GT3       T     1     1  at_home    other  ...   \n",
       "2     GP   F   15       U     LE3       T     1     1  at_home    other  ...   \n",
       "\n",
       "  famrel freetime  goout  Dalc  Walc health absences G1 G2  G3  \n",
       "0      4        3      4     1     1      3        6  5  6   6  \n",
       "1      5        3      3     1     1      3        4  5  5   6  \n",
       "2      4        3      2     2     3      3       10  7  8  10  \n",
       "\n",
       "[3 rows x 33 columns]"
      ]
     },
     "execution_count": 21,
     "metadata": {},
     "output_type": "execute_result"
    }
   ],
   "source": [
    "import pandas as pd\n",
    "import numpy as np\n",
    "df=pd.read_csv(\"D:\\student-mat.csv\")\n",
    "df.head(3)"
   ]
  },
  {
   "cell_type": "code",
   "execution_count": 22,
   "id": "ad97614d",
   "metadata": {},
   "outputs": [
    {
     "data": {
      "text/plain": [
       "395"
      ]
     },
     "execution_count": 22,
     "metadata": {},
     "output_type": "execute_result"
    }
   ],
   "source": [
    "len(df)"
   ]
  },
  {
   "cell_type": "code",
   "execution_count": 23,
   "id": "b416ecf1",
   "metadata": {},
   "outputs": [],
   "source": [
    "df['grade_A']=np.where(df['G3']*5>=80,1,0)"
   ]
  },
  {
   "cell_type": "code",
   "execution_count": 24,
   "id": "e19d7210",
   "metadata": {},
   "outputs": [],
   "source": [
    "df['high_absenses']=np.where(df['absences']>=10,1,0)"
   ]
  },
  {
   "cell_type": "markdown",
   "id": "c08ba0dc",
   "metadata": {},
   "source": [
    "pivot table to make it easier"
   ]
  },
  {
   "cell_type": "code",
   "execution_count": 25,
   "id": "147e74f3",
   "metadata": {},
   "outputs": [],
   "source": [
    "df['count']=1"
   ]
  },
  {
   "cell_type": "markdown",
   "id": "9a4562b7",
   "metadata": {},
   "source": [
    "drop all the columns we dont want"
   ]
  },
  {
   "cell_type": "code",
   "execution_count": 32,
   "id": "c9457e63",
   "metadata": {},
   "outputs": [
    {
     "data": {
      "text/html": [
       "<div>\n",
       "<style scoped>\n",
       "    .dataframe tbody tr th:only-of-type {\n",
       "        vertical-align: middle;\n",
       "    }\n",
       "\n",
       "    .dataframe tbody tr th {\n",
       "        vertical-align: top;\n",
       "    }\n",
       "\n",
       "    .dataframe thead th {\n",
       "        text-align: right;\n",
       "    }\n",
       "</style>\n",
       "<table border=\"1\" class=\"dataframe\">\n",
       "  <thead>\n",
       "    <tr style=\"text-align: right;\">\n",
       "      <th></th>\n",
       "      <th>grade_A</th>\n",
       "      <th>high_absenses</th>\n",
       "      <th>count</th>\n",
       "    </tr>\n",
       "  </thead>\n",
       "  <tbody>\n",
       "    <tr>\n",
       "      <th>0</th>\n",
       "      <td>0</td>\n",
       "      <td>0</td>\n",
       "      <td>1</td>\n",
       "    </tr>\n",
       "    <tr>\n",
       "      <th>1</th>\n",
       "      <td>0</td>\n",
       "      <td>0</td>\n",
       "      <td>1</td>\n",
       "    </tr>\n",
       "    <tr>\n",
       "      <th>2</th>\n",
       "      <td>0</td>\n",
       "      <td>1</td>\n",
       "      <td>1</td>\n",
       "    </tr>\n",
       "    <tr>\n",
       "      <th>3</th>\n",
       "      <td>0</td>\n",
       "      <td>0</td>\n",
       "      <td>1</td>\n",
       "    </tr>\n",
       "    <tr>\n",
       "      <th>4</th>\n",
       "      <td>0</td>\n",
       "      <td>0</td>\n",
       "      <td>1</td>\n",
       "    </tr>\n",
       "    <tr>\n",
       "      <th>...</th>\n",
       "      <td>...</td>\n",
       "      <td>...</td>\n",
       "      <td>...</td>\n",
       "    </tr>\n",
       "    <tr>\n",
       "      <th>390</th>\n",
       "      <td>0</td>\n",
       "      <td>1</td>\n",
       "      <td>1</td>\n",
       "    </tr>\n",
       "    <tr>\n",
       "      <th>391</th>\n",
       "      <td>1</td>\n",
       "      <td>0</td>\n",
       "      <td>1</td>\n",
       "    </tr>\n",
       "    <tr>\n",
       "      <th>392</th>\n",
       "      <td>0</td>\n",
       "      <td>0</td>\n",
       "      <td>1</td>\n",
       "    </tr>\n",
       "    <tr>\n",
       "      <th>393</th>\n",
       "      <td>0</td>\n",
       "      <td>0</td>\n",
       "      <td>1</td>\n",
       "    </tr>\n",
       "    <tr>\n",
       "      <th>394</th>\n",
       "      <td>0</td>\n",
       "      <td>0</td>\n",
       "      <td>1</td>\n",
       "    </tr>\n",
       "  </tbody>\n",
       "</table>\n",
       "<p>395 rows × 3 columns</p>\n",
       "</div>"
      ],
      "text/plain": [
       "     grade_A  high_absenses  count\n",
       "0          0              0      1\n",
       "1          0              0      1\n",
       "2          0              1      1\n",
       "3          0              0      1\n",
       "4          0              0      1\n",
       "..       ...            ...    ...\n",
       "390        0              1      1\n",
       "391        1              0      1\n",
       "392        0              0      1\n",
       "393        0              0      1\n",
       "394        0              0      1\n",
       "\n",
       "[395 rows x 3 columns]"
      ]
     },
     "execution_count": 32,
     "metadata": {},
     "output_type": "execute_result"
    }
   ],
   "source": [
    "df=df[['grade_A','high_absenses','count']]\n",
    "df"
   ]
  },
  {
   "cell_type": "code",
   "execution_count": 35,
   "id": "39b3acfd",
   "metadata": {},
   "outputs": [],
   "source": [
    "final=pd.pivot_table(\n",
    "     df,\n",
    "     values='count',\n",
    "     index=['grade_A'],\n",
    "     columns=['high_absenses'],\n",
    "     aggfunc=np.size,\n",
    "     fill_value=0\n",
    ")"
   ]
  },
  {
   "cell_type": "code",
   "execution_count": 36,
   "id": "d1b134f3",
   "metadata": {},
   "outputs": [
    {
     "name": "stdout",
     "output_type": "stream",
     "text": [
      "high_absenses    0   1\n",
      "grade_A               \n",
      "0              277  78\n",
      "1               35   5\n"
     ]
    }
   ],
   "source": [
    "print(final)"
   ]
  },
  {
   "cell_type": "code",
   "execution_count": null,
   "id": "110efa89",
   "metadata": {},
   "outputs": [],
   "source": []
  },
  {
   "cell_type": "code",
   "execution_count": null,
   "id": "5f581ec5",
   "metadata": {},
   "outputs": [],
   "source": []
  }
 ],
 "metadata": {
  "kernelspec": {
   "display_name": "Python 3 (ipykernel)",
   "language": "python",
   "name": "python3"
  },
  "language_info": {
   "codemirror_mode": {
    "name": "ipython",
    "version": 3
   },
   "file_extension": ".py",
   "mimetype": "text/x-python",
   "name": "python",
   "nbconvert_exporter": "python",
   "pygments_lexer": "ipython3",
   "version": "3.9.7"
  }
 },
 "nbformat": 4,
 "nbformat_minor": 5
}
